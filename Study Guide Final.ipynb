{
 "cells": [
  {
   "cell_type": "markdown",
   "id": "ba49d213",
   "metadata": {},
   "source": [
    "## Different types of variables"
   ]
  },
  {
   "cell_type": "code",
   "execution_count": 3,
   "id": "0fc4c972",
   "metadata": {},
   "outputs": [
    {
     "name": "stdout",
     "output_type": "stream",
     "text": [
      "1 0\n"
     ]
    }
   ],
   "source": [
    "x = 5%2\n",
    "y = 4%2\n",
    "print(x, y)"
   ]
  },
  {
   "cell_type": "code",
   "execution_count": 4,
   "id": "9cf31767",
   "metadata": {},
   "outputs": [
    {
     "data": {
      "text/plain": [
       "5.0"
      ]
     },
     "execution_count": 4,
     "metadata": {},
     "output_type": "execute_result"
    }
   ],
   "source": [
    "10/2"
   ]
  },
  {
   "cell_type": "code",
   "execution_count": 5,
   "id": "11601f0a",
   "metadata": {},
   "outputs": [
    {
     "data": {
      "text/plain": [
       "5"
      ]
     },
     "execution_count": 5,
     "metadata": {},
     "output_type": "execute_result"
    }
   ],
   "source": [
    "11//2"
   ]
  },
  {
   "cell_type": "code",
   "execution_count": 7,
   "id": "ab03385a",
   "metadata": {},
   "outputs": [
    {
     "data": {
      "text/plain": [
       "int"
      ]
     },
     "execution_count": 7,
     "metadata": {},
     "output_type": "execute_result"
    }
   ],
   "source": [
    "w = 24\n",
    "type(w)"
   ]
  },
  {
   "cell_type": "markdown",
   "id": "82c1fb7b",
   "metadata": {},
   "source": [
    "## Arithmetic Operators"
   ]
  },
  {
   "cell_type": "code",
   "execution_count": 9,
   "id": "c091de50",
   "metadata": {},
   "outputs": [
    {
     "name": "stdout",
     "output_type": "stream",
     "text": [
      "9 3 6.0 35 7\n"
     ]
    }
   ],
   "source": [
    "q=5+4\n",
    "e=12-9\n",
    "r=18/3\n",
    "t=5*7\n",
    "u=2^5\n",
    "print(q,e,r,t,u)"
   ]
  },
  {
   "cell_type": "markdown",
   "id": "f5921568",
   "metadata": {},
   "source": [
    "## Comments in Python"
   ]
  },
  {
   "cell_type": "code",
   "execution_count": 10,
   "id": "918b3788",
   "metadata": {},
   "outputs": [],
   "source": [
    "# This is a comment, you have to insert a # before you start typing your comment in order for it to become a comment"
   ]
  },
  {
   "cell_type": "markdown",
   "id": "2fa48c71",
   "metadata": {},
   "source": [
    "## F string, % operator, .format operator to print any statement. Definition of each type of formatted string"
   ]
  },
  {
   "cell_type": "code",
   "execution_count": 12,
   "id": "834e60d5",
   "metadata": {},
   "outputs": [
    {
     "data": {
      "text/plain": [
       "'Hello, Eric.'"
      ]
     },
     "execution_count": 12,
     "metadata": {},
     "output_type": "execute_result"
    }
   ],
   "source": [
    "name = \"Eric\"\n",
    "\"Hello, %s.\" % name"
   ]
  },
  {
   "cell_type": "code",
   "execution_count": 13,
   "id": "46d88c43",
   "metadata": {},
   "outputs": [
    {
     "data": {
      "text/plain": [
       "'Hello, Eric. You are 74.'"
      ]
     },
     "execution_count": 13,
     "metadata": {},
     "output_type": "execute_result"
    }
   ],
   "source": [
    "name = \"Eric\"\n",
    "age = 74\n",
    "\"Hello, %s. You are %s.\" % (name, age)"
   ]
  },
  {
   "cell_type": "code",
   "execution_count": 14,
   "id": "346fc8a5",
   "metadata": {},
   "outputs": [
    {
     "data": {
      "text/plain": [
       "'Hello, Eric. You are 74.'"
      ]
     },
     "execution_count": 14,
     "metadata": {},
     "output_type": "execute_result"
    }
   ],
   "source": [
    "\"Hello, {}. You are {}.\".format(name, age)"
   ]
  },
  {
   "cell_type": "code",
   "execution_count": 17,
   "id": "e232a570",
   "metadata": {},
   "outputs": [
    {
     "data": {
      "text/plain": [
       "'Hello, 74. You are Eric.'"
      ]
     },
     "execution_count": 17,
     "metadata": {},
     "output_type": "execute_result"
    }
   ],
   "source": [
    "\"Hello, {0}. You are {1}.\".format(age, name) # The name and age will be flipped in this case"
   ]
  },
  {
   "cell_type": "code",
   "execution_count": 19,
   "id": "78fed1c3",
   "metadata": {},
   "outputs": [
    {
     "data": {
      "text/plain": [
       "'Hello, Eric. You are 74.'"
      ]
     },
     "execution_count": 19,
     "metadata": {},
     "output_type": "execute_result"
    }
   ],
   "source": [
    "name = \"Eric\"\n",
    "age = 74\n",
    "f\"Hello, {name}. You are {age}.\""
   ]
  },
  {
   "cell_type": "code",
   "execution_count": 20,
   "id": "684e3e95",
   "metadata": {},
   "outputs": [
    {
     "data": {
      "text/plain": [
       "'74'"
      ]
     },
     "execution_count": 20,
     "metadata": {},
     "output_type": "execute_result"
    }
   ],
   "source": [
    "f\"{2 * 37}\""
   ]
  },
  {
   "cell_type": "markdown",
   "id": "3ce938aa",
   "metadata": {},
   "source": [
    "## Decimal, floating point numbers formatting"
   ]
  },
  {
   "cell_type": "code",
   "execution_count": 21,
   "id": "22c50119",
   "metadata": {},
   "outputs": [
    {
     "name": "stdout",
     "output_type": "stream",
     "text": [
      "179.4959901398329\n"
     ]
    }
   ],
   "source": [
    "# Before Formatting\n",
    "x = 211911461911461819112146\n",
    "y = 2**70\n",
    "print(x / y)"
   ]
  },
  {
   "cell_type": "code",
   "execution_count": 22,
   "id": "78923628",
   "metadata": {},
   "outputs": [
    {
     "name": "stdout",
     "output_type": "stream",
     "text": [
      "179.50\n"
     ]
    }
   ],
   "source": [
    "# After Formatting\n",
    "x = 211911461911461819112146\n",
    "y = 2**70\n",
    "z = x / y\n",
    "print(\"%.2f\" % z)"
   ]
  },
  {
   "cell_type": "markdown",
   "id": "6dfd445a",
   "metadata": {},
   "source": [
    "## String functions "
   ]
  },
  {
   "cell_type": "code",
   "execution_count": 33,
   "id": "130192a4",
   "metadata": {},
   "outputs": [
    {
     "name": "stdout",
     "output_type": "stream",
     "text": [
      "e   h l o\n"
     ]
    }
   ],
   "source": [
    "statement = \"Hello Adham\"\n",
    "print(statement[1], statement[5], statement[8], statement[2], statement[4])"
   ]
  },
  {
   "cell_type": "code",
   "execution_count": 36,
   "id": "af474227",
   "metadata": {},
   "outputs": [
    {
     "name": "stdout",
     "output_type": "stream",
     "text": [
      "Hello buddy\n"
     ]
    }
   ],
   "source": [
    "s = \"heLLo BuDdY\"\n",
    "s = s.capitalize()\n",
    "print(s)"
   ]
  },
  {
   "cell_type": "code",
   "execution_count": 37,
   "id": "28f68da4",
   "metadata": {},
   "outputs": [
    {
     "name": "stdout",
     "output_type": "stream",
     "text": [
      "hello buddy\n"
     ]
    }
   ],
   "source": [
    "s = \"heLLo BuDdY\"\n",
    "s = s.lower()\n",
    "print(s)"
   ]
  },
  {
   "cell_type": "code",
   "execution_count": 38,
   "id": "544468ec",
   "metadata": {},
   "outputs": [
    {
     "name": "stdout",
     "output_type": "stream",
     "text": [
      "Hello Buddy\n"
     ]
    }
   ],
   "source": [
    "s = \"heLLo BuDdY\"\n",
    "s = s.title()\n",
    "print(s)"
   ]
  },
  {
   "cell_type": "code",
   "execution_count": 39,
   "id": "5532aec5",
   "metadata": {},
   "outputs": [
    {
     "name": "stdout",
     "output_type": "stream",
     "text": [
      "HELLO BUDDY\n"
     ]
    }
   ],
   "source": [
    "s = \"heLLo BuDdY\"\n",
    "s = s.upper()\n",
    "print(s)"
   ]
  },
  {
   "cell_type": "markdown",
   "id": "e4a0453c",
   "metadata": {},
   "source": [
    "## String comparison based on their ASCII value"
   ]
  },
  {
   "cell_type": "code",
   "execution_count": 41,
   "id": "44590f87",
   "metadata": {},
   "outputs": [
    {
     "data": {
      "text/plain": [
       "'p'"
      ]
     },
     "execution_count": 41,
     "metadata": {},
     "output_type": "execute_result"
    }
   ],
   "source": [
    "c='p'\n",
    "x=ord(c)\n",
    "#it will give you the ASCII value stored in x\n",
    "chr(x)\n",
    "#it will return back the character"
   ]
  },
  {
   "cell_type": "code",
   "execution_count": 40,
   "id": "194578d6",
   "metadata": {},
   "outputs": [
    {
     "name": "stdout",
     "output_type": "stream",
     "text": [
      "The ASCII value of 'p' is 112\n"
     ]
    }
   ],
   "source": [
    "c = 'p'\n",
    "print(\"The ASCII value of '\" + c + \"' is\", ord(c))"
   ]
  },
  {
   "cell_type": "markdown",
   "id": "5302ebd4",
   "metadata": {},
   "source": [
    "## Getting Input from the User (Int, string, float)"
   ]
  },
  {
   "cell_type": "code",
   "execution_count": 45,
   "id": "423d706b",
   "metadata": {},
   "outputs": [
    {
     "name": "stdout",
     "output_type": "stream",
     "text": [
      "Enter any number: 32\n",
      "value of val1:  32\n",
      "type of val1:  <class 'int'>\n",
      "Enter any number: 2.4\n",
      "value of val2:  2.4\n",
      "type of val2:  <class 'float'>\n",
      "Enter any value: name\n",
      "value of val3:  name\n",
      "type of val3:  <class 'str'>\n"
     ]
    }
   ],
   "source": [
    "val1 = int(input(\"Enter any number: \"))\n",
    "print(\"value of val1: \", val1)\n",
    "print(\"type of val1: \", type(val1))\n",
    "\n",
    "# reading a value, converting to float\n",
    "# printing value and it's type\n",
    "\n",
    "val2 = float(input(\"Enter any number: \"))\n",
    "print(\"value of val2: \", val2)\n",
    "print(\"type of val2: \", type(val2))\n",
    "\n",
    "val3 = input(\"Enter any value: \")\n",
    "print(\"value of val3: \", val3)\n",
    "print(\"type of val3: \", type(val3))"
   ]
  },
  {
   "cell_type": "markdown",
   "id": "c7ac5086",
   "metadata": {},
   "source": [
    "## Basic Descriptive Statistics"
   ]
  },
  {
   "cell_type": "code",
   "execution_count": 50,
   "id": "7d7fff48",
   "metadata": {},
   "outputs": [
    {
     "name": "stdout",
     "output_type": "stream",
     "text": [
      "The mean of numbers is 53.22222222222222\n",
      "The median of numbers is 56\n",
      "The mode of numbers is 23\n",
      "The standard deviation of numbers is 37.17451337199243\n"
     ]
    }
   ],
   "source": [
    "import statistics as stats\n",
    "numbers = [23, 56, 123, 98, 56, 34, 9, 23, 57]\n",
    "print(\"The mean of numbers is\", stats.mean(numbers))\n",
    "print(\"The median of numbers is\", stats.median(numbers))\n",
    "print(\"The mode of numbers is\", stats.mode(numbers))\n",
    "print(\"The standard deviation of numbers is\", statistics.stdev(numbers))"
   ]
  },
  {
   "cell_type": "markdown",
   "id": "e14ab09f",
   "metadata": {},
   "source": [
    "## How many types of control structures, Form of controls, Definition of each control structure?"
   ]
  },
  {
   "cell_type": "markdown",
   "id": "de12b91f",
   "metadata": {},
   "source": [
    "#### Sequential: when statements are executed one after another in order. You don't need to do anything more for this to happen.\n",
    "\n",
    "#### Selection: used for decisions, branching - choosing between 2 or more alternative paths.\n",
    "\n",
    "#### Repetition used for looping, i.e. repeating a piece of code multiple times in a row."
   ]
  },
  {
   "cell_type": "code",
   "execution_count": 51,
   "id": "663617b5",
   "metadata": {},
   "outputs": [
    {
     "name": "stdout",
     "output_type": "stream",
     "text": [
      "Passed\n"
     ]
    }
   ],
   "source": [
    "grade = 85\n",
    "if (grade>=60):\n",
    "    print(\"Passed\")\n",
    "else:\n",
    "    print(\"Failed\")"
   ]
  },
  {
   "cell_type": "code",
   "execution_count": 52,
   "id": "343b099b",
   "metadata": {},
   "outputs": [
    {
     "name": "stdout",
     "output_type": "stream",
     "text": [
      "6\n",
      "12\n",
      "24\n"
     ]
    }
   ],
   "source": [
    "product = 3\n",
    "while product <= 20:\n",
    "    product = product * 2\n",
    "    print(product)"
   ]
  },
  {
   "cell_type": "code",
   "execution_count": 54,
   "id": "d9cdda53",
   "metadata": {},
   "outputs": [
    {
     "name": "stdout",
     "output_type": "stream",
     "text": [
      "What is the citizen's age?: 34\n",
      "Adult\n",
      "What is the citizen's age?: 14\n",
      "Minor\n",
      "What is the citizen's age?: 66\n",
      "Senior Citizen\n",
      "What is the citizen's age?: 0\n"
     ]
    }
   ],
   "source": [
    "age = int(input(\"What is the citizen's age?: \")) \n",
    "while age > 0:\n",
    "    if age > 0 and age < 18:\n",
    "        print(\"Minor\")\n",
    "    elif age > 18 and age < 65:\n",
    "        print(\"Adult\")\n",
    "    elif age >= 65:\n",
    "        print(\"Senior Citizen\")\n",
    "    age = int(input(\"What is the citizen's age?: \" ))"
   ]
  },
  {
   "cell_type": "code",
   "execution_count": 55,
   "id": "5f6c100c",
   "metadata": {},
   "outputs": [
    {
     "name": "stdout",
     "output_type": "stream",
     "text": [
      "s\n",
      "t\n",
      "r\n",
      "The end\n"
     ]
    }
   ],
   "source": [
    "#Break Statement\n",
    "for val in \"string\":\n",
    "    if val == \"i\":\n",
    "        break\n",
    "    print(val)\n",
    "\n",
    "print(\"The end\")"
   ]
  },
  {
   "cell_type": "code",
   "execution_count": null,
   "id": "07847197",
   "metadata": {},
   "outputs": [],
   "source": [
    "#Continue Statement\n",
    "for val in \"string\":\n",
    "    if val == \"i\":\n",
    "        continue\n",
    "    print(val)\n",
    "\n",
    "print(\"The end\")"
   ]
  },
  {
   "cell_type": "markdown",
   "id": "ab0f8613",
   "metadata": {},
   "source": [
    "## Define a function with return statement"
   ]
  },
  {
   "cell_type": "code",
   "execution_count": 56,
   "id": "096471c0",
   "metadata": {},
   "outputs": [
    {
     "name": "stdout",
     "output_type": "stream",
     "text": [
      "Enter the first side of the triangle : 4\n",
      "Enter the second side of the triangle : 8\n",
      "Enter the third side of the triangle : 15\n",
      "The area of the triangle is approximately 240.0 square units\n",
      "The perimeter of the triangle is 27 linear units\n"
     ]
    }
   ],
   "source": [
    "s1 = int(input(\"Enter the first side of the triangle : \"))\n",
    "s2 = int(input(\"Enter the second side of the triangle : \"))\n",
    "s3 = int(input(\"Enter the third side of the triangle : \"))\n",
    "def calcArea():\n",
    "    area = (s1)*(s2)*(s3)*0.5\n",
    "    return area\n",
    "def calcPerimeter():\n",
    "    p = (s1 + s2 + s3)\n",
    "    return p\n",
    "print(\"The area of the triangle is approximately\", calcArea(), \"square units\")\n",
    "print(\"The perimeter of the triangle is\", calcPerimeter(), \"linear units\")"
   ]
  },
  {
   "cell_type": "markdown",
   "id": "dbb90e58",
   "metadata": {},
   "source": [
    "## Write a function to find out "
   ]
  },
  {
   "cell_type": "code",
   "execution_count": 57,
   "id": "eb37af59",
   "metadata": {},
   "outputs": [
    {
     "data": {
      "text/plain": [
       "5"
      ]
     },
     "execution_count": 57,
     "metadata": {},
     "output_type": "execute_result"
    }
   ],
   "source": [
    "max(2, 5, 1)"
   ]
  },
  {
   "cell_type": "code",
   "execution_count": 59,
   "id": "5487c8b7",
   "metadata": {},
   "outputs": [
    {
     "data": {
      "text/plain": [
       "3"
      ]
     },
     "execution_count": 59,
     "metadata": {},
     "output_type": "execute_result"
    }
   ],
   "source": [
    "min(7, 3, 10)"
   ]
  },
  {
   "cell_type": "code",
   "execution_count": 60,
   "id": "d00a16e6",
   "metadata": {},
   "outputs": [
    {
     "name": "stdout",
     "output_type": "stream",
     "text": [
      "21\n"
     ]
    }
   ],
   "source": [
    "def sum(numbers):\n",
    "    total = 0\n",
    "    for x in numbers:\n",
    "        total += x\n",
    "    return total\n",
    "print(sum((8, 2, 3, 1, 7)))"
   ]
  },
  {
   "cell_type": "code",
   "execution_count": 62,
   "id": "ba7c044f",
   "metadata": {},
   "outputs": [
    {
     "name": "stdout",
     "output_type": "stream",
     "text": [
      "336\n"
     ]
    }
   ],
   "source": [
    "def mult(numbers):\n",
    "    total = 1\n",
    "    for x in numbers:\n",
    "        total *= x\n",
    "    return total\n",
    "print(mult((8, 2, 3, 1, 7)))"
   ]
  },
  {
   "cell_type": "code",
   "execution_count": 63,
   "id": "afceac6b",
   "metadata": {},
   "outputs": [
    {
     "name": "stdout",
     "output_type": "stream",
     "text": [
      "The average is 18.4\n"
     ]
    }
   ],
   "source": [
    "def cal_average(num):\n",
    "    sum_num = 0\n",
    "    for t in num:\n",
    "        sum_num = sum_num + t           \n",
    "\n",
    "    avg = sum_num / len(num)\n",
    "    return avg\n",
    "\n",
    "print(\"The average is\", cal_average([18,25,3,41,5]))"
   ]
  },
  {
   "cell_type": "code",
   "execution_count": 65,
   "id": "fface27b",
   "metadata": {},
   "outputs": [
    {
     "name": "stdout",
     "output_type": "stream",
     "text": [
      "[19, 65, 23, 90]\n"
     ]
    }
   ],
   "source": [
    "def swapPositions(list, pos1, pos2):\n",
    "    first_ele = list.pop(pos1)  \n",
    "    second_ele = list.pop(pos2-1)\n",
    "    list.insert(pos1, second_ele) \n",
    "    list.insert(pos2, first_ele) \n",
    "    return list\n",
    "List = [23, 65, 19, 90]\n",
    "pos1, pos2  = 1, 3\n",
    "print(swapPositions(List, pos1-1, pos2-1))"
   ]
  },
  {
   "cell_type": "markdown",
   "id": "8a82b37b",
   "metadata": {},
   "source": [
    "## Function with multiple parameters with Global and local scope examples ."
   ]
  },
  {
   "cell_type": "code",
   "execution_count": 66,
   "id": "84b641fe",
   "metadata": {},
   "outputs": [
    {
     "name": "stdout",
     "output_type": "stream",
     "text": [
      "x inside: global\n",
      "x outside: global\n"
     ]
    }
   ],
   "source": [
    "#Global\n",
    "x = \"global\"\n",
    "\n",
    "def foo():\n",
    "    print(\"x inside:\", x)\n",
    "\n",
    "\n",
    "foo()\n",
    "print(\"x outside:\", x)"
   ]
  },
  {
   "cell_type": "code",
   "execution_count": 69,
   "id": "31062cf0",
   "metadata": {},
   "outputs": [
    {
     "name": "stdout",
     "output_type": "stream",
     "text": [
      "local\n"
     ]
    }
   ],
   "source": [
    "#Local\n",
    "def foo():\n",
    "    y = \"local\"\n",
    "    print(y)\n",
    "\n",
    "foo()"
   ]
  },
  {
   "cell_type": "code",
   "execution_count": 70,
   "id": "5b6e0e11",
   "metadata": {},
   "outputs": [
    {
     "name": "stdout",
     "output_type": "stream",
     "text": [
      "global global \n",
      "local\n"
     ]
    }
   ],
   "source": [
    "#Global and Local\n",
    "x = \"global \"\n",
    "\n",
    "def foo():\n",
    "    global x\n",
    "    y = \"local\"\n",
    "    x = x * 2\n",
    "    print(x)\n",
    "    print(y)\n",
    "\n",
    "foo()"
   ]
  },
  {
   "cell_type": "code",
   "execution_count": 71,
   "id": "a0244691",
   "metadata": {},
   "outputs": [
    {
     "name": "stdout",
     "output_type": "stream",
     "text": [
      "local x: 10\n",
      "global x: 5\n"
     ]
    }
   ],
   "source": [
    "x = 5\n",
    "\n",
    "def foo():\n",
    "    x = 10\n",
    "    print(\"local x:\", x)\n",
    "\n",
    "\n",
    "foo()\n",
    "print(\"global x:\", x)"
   ]
  },
  {
   "cell_type": "markdown",
   "id": "0f8912a8",
   "metadata": {},
   "source": [
    "## List Function:"
   ]
  },
  {
   "cell_type": "code",
   "execution_count": 74,
   "id": "4e97a63d",
   "metadata": {},
   "outputs": [
    {
     "name": "stdout",
     "output_type": "stream",
     "text": [
      "6\n"
     ]
    }
   ],
   "source": [
    "#Argument List\n",
    "def my_sum(*args):\n",
    "    result = 0\n",
    "    # Iterating over the Python args tuple\n",
    "    for x in args:\n",
    "        result += x\n",
    "    return result\n",
    "\n",
    "print(my_sum(1, 2, 3))"
   ]
  },
  {
   "cell_type": "code",
   "execution_count": 78,
   "id": "5c7ad2a5",
   "metadata": {},
   "outputs": [
    {
     "name": "stdout",
     "output_type": "stream",
     "text": [
      "[70, 30, 20, 90]\n"
     ]
    }
   ],
   "source": [
    "#Slicing List\n",
    "Lst = [50, 70, 30, 20, 90, 10, 50]\n",
    "print(Lst[1:5])"
   ]
  },
  {
   "cell_type": "code",
   "execution_count": 80,
   "id": "8bd7e823",
   "metadata": {},
   "outputs": [
    {
     "name": "stdout",
     "output_type": "stream",
     "text": [
      "Concatenated list using + : [1, 4, 5, 6, 5, 3, 5, 7, 2, 5]\n"
     ]
    }
   ],
   "source": [
    "#Concatenate Lists\n",
    "test_list3 = [1, 4, 5, 6, 5]\n",
    "test_list4 = [3, 5, 7, 2, 5]\n",
    "test_list3 = test_list3 + test_list4\n",
    "print (\"Concatenated list using + : \" + str(test_list3))"
   ]
  },
  {
   "cell_type": "code",
   "execution_count": 82,
   "id": "550a483a",
   "metadata": {},
   "outputs": [
    {
     "name": "stdout",
     "output_type": "stream",
     "text": [
      "['BMW', 'Ford', 'Volvo']\n"
     ]
    }
   ],
   "source": [
    "#Sort list\n",
    "cars = ['Ford', 'BMW', 'Volvo']\n",
    "cars.sort()\n",
    "print(cars)"
   ]
  },
  {
   "cell_type": "code",
   "execution_count": 83,
   "id": "00a3a999",
   "metadata": {},
   "outputs": [
    {
     "name": "stdout",
     "output_type": "stream",
     "text": [
      "1\n"
     ]
    }
   ],
   "source": [
    "#index list\n",
    "animals = ['cat', 'dog', 'rabbit', 'horse']\n",
    "index = animals.index('dog')\n",
    "print(index)"
   ]
  },
  {
   "cell_type": "code",
   "execution_count": 84,
   "id": "e105ef7b",
   "metadata": {},
   "outputs": [
    {
     "name": "stdout",
     "output_type": "stream",
     "text": [
      "['Dollar', 'Euro', 'Pound', 'Yen']\n"
     ]
    }
   ],
   "source": [
    "#append list\n",
    "currencies = ['Dollar', 'Euro', 'Pound']\n",
    "currencies.append('Yen')\n",
    "print(currencies)"
   ]
  },
  {
   "cell_type": "code",
   "execution_count": 87,
   "id": "00fd8a4e",
   "metadata": {},
   "outputs": [
    {
     "name": "stdout",
     "output_type": "stream",
     "text": [
      "[1, 4, 2, 3, 5]\n"
     ]
    }
   ],
   "source": [
    "#extend list\n",
    "prime_numbers = [2, 3, 5]\n",
    "numbers = [1, 4]\n",
    "numbers.extend(prime_numbers)\n",
    "print(numbers)"
   ]
  },
  {
   "cell_type": "code",
   "execution_count": 88,
   "id": "e0e76d73",
   "metadata": {},
   "outputs": [
    {
     "name": "stdout",
     "output_type": "stream",
     "text": [
      "[]\n"
     ]
    }
   ],
   "source": [
    "#Clear list\n",
    "prime_numbers = [2, 3, 5, 7, 9, 11]\n",
    "prime_numbers.clear()\n",
    "print(prime_numbers)"
   ]
  },
  {
   "cell_type": "code",
   "execution_count": 90,
   "id": "a810c5bc",
   "metadata": {},
   "outputs": [
    {
     "name": "stdout",
     "output_type": "stream",
     "text": [
      "[7, 5, 3, 2]\n"
     ]
    }
   ],
   "source": [
    "#reverse list\n",
    "prime_numbers = [2, 3, 5, 7]\n",
    "prime_numbers.reverse()\n",
    "print(prime_numbers)"
   ]
  },
  {
   "cell_type": "code",
   "execution_count": 91,
   "id": "d7d6028d",
   "metadata": {},
   "outputs": [
    {
     "name": "stdout",
     "output_type": "stream",
     "text": [
      "[2, 3, 5]\n"
     ]
    }
   ],
   "source": [
    "#copy list\n",
    "prime_numbers = [2, 3, 5]\n",
    "numbers = prime_numbers.copy()\n",
    "print(numbers)"
   ]
  },
  {
   "cell_type": "code",
   "execution_count": 95,
   "id": "1a118d03",
   "metadata": {},
   "outputs": [
    {
     "name": "stdout",
     "output_type": "stream",
     "text": [
      "[1, 2, 4, 5, 6, 7, 8, 9]\n",
      "[1, 6, 7, 8, 9]\n",
      "[]\n"
     ]
    }
   ],
   "source": [
    "#del list\n",
    "\n",
    "my_list = [1, 2, 3, 4, 5, 6, 7, 8, 9]\n",
    "\n",
    "# deleting the third item\n",
    "del my_list[2]\n",
    "\n",
    "# Output: [1, 2, 4, 5, 6, 7, 8, 9]\n",
    "print(my_list)\n",
    "\n",
    "# deleting items from 2nd to 4th\n",
    "del my_list[1:4]\n",
    "\n",
    "# Output: [1, 6, 7, 8, 9]\n",
    "print(my_list)\n",
    "\n",
    "# deleting all elements\n",
    "del my_list[:]\n",
    "\n",
    "# Output: []\n",
    "print(my_list)"
   ]
  },
  {
   "cell_type": "markdown",
   "id": "30b60517",
   "metadata": {},
   "source": [
    "## Tuple Functions"
   ]
  },
  {
   "cell_type": "code",
   "execution_count": 96,
   "id": "2d3cc56d",
   "metadata": {},
   "outputs": [
    {
     "name": "stdout",
     "output_type": "stream",
     "text": [
      "apple\n",
      "banana\n",
      "cherry\n"
     ]
    }
   ],
   "source": [
    "#tuple unpacking\n",
    "fruits = (\"apple\", \"banana\", \"cherry\")\n",
    "\n",
    "(green, yellow, red) = fruits\n",
    "\n",
    "print(green)\n",
    "print(yellow)\n",
    "print(red)"
   ]
  },
  {
   "cell_type": "code",
   "execution_count": 98,
   "id": "069b1b18",
   "metadata": {},
   "outputs": [
    {
     "name": "stdout",
     "output_type": "stream",
     "text": [
      "The tuple in list is : ['Python Guides', 'learning sites']\n"
     ]
    }
   ],
   "source": [
    "#tuple concatenate with list\n",
    "my_list = [('Python', 'Guides'),('learning', 'sites')]\n",
    "s = [' '.join(tup) for tup in my_list] \n",
    "print (\"The tuple in list is : \" +  str(s))"
   ]
  },
  {
   "cell_type": "code",
   "execution_count": 103,
   "id": "c8074552",
   "metadata": {},
   "outputs": [
    {
     "ename": "TypeError",
     "evalue": "'tuple' object is not callable",
     "output_type": "error",
     "traceback": [
      "\u001b[1;31m---------------------------------------------------------------------------\u001b[0m",
      "\u001b[1;31mTypeError\u001b[0m                                 Traceback (most recent call last)",
      "\u001b[1;32m<ipython-input-103-ebf36a37fbbb>\u001b[0m in \u001b[0;36m<module>\u001b[1;34m\u001b[0m\n\u001b[0;32m      2\u001b[0m \u001b[1;32mdef\u001b[0m \u001b[0mconvert\u001b[0m\u001b[1;33m(\u001b[0m\u001b[0mlist1\u001b[0m\u001b[1;33m)\u001b[0m\u001b[1;33m:\u001b[0m\u001b[1;33m\u001b[0m\u001b[1;33m\u001b[0m\u001b[0m\n\u001b[0;32m      3\u001b[0m     \u001b[1;32mreturn\u001b[0m \u001b[0mtuple\u001b[0m\u001b[1;33m(\u001b[0m\u001b[0mlist1\u001b[0m\u001b[1;33m)\u001b[0m\u001b[1;33m\u001b[0m\u001b[1;33m\u001b[0m\u001b[0m\n\u001b[1;32m----> 4\u001b[1;33m \u001b[0mprint\u001b[0m\u001b[1;33m(\u001b[0m\u001b[0mconvert\u001b[0m\u001b[1;33m(\u001b[0m\u001b[0mlist1\u001b[0m\u001b[1;33m)\u001b[0m\u001b[1;33m)\u001b[0m\u001b[1;33m\u001b[0m\u001b[1;33m\u001b[0m\u001b[0m\n\u001b[0m",
      "\u001b[1;32m<ipython-input-103-ebf36a37fbbb>\u001b[0m in \u001b[0;36mconvert\u001b[1;34m(list1)\u001b[0m\n\u001b[0;32m      1\u001b[0m \u001b[0mlist1\u001b[0m \u001b[1;33m=\u001b[0m \u001b[1;33m[\u001b[0m\u001b[1;36m1\u001b[0m\u001b[1;33m,\u001b[0m \u001b[1;36m2\u001b[0m\u001b[1;33m,\u001b[0m \u001b[1;36m3\u001b[0m\u001b[1;33m,\u001b[0m \u001b[1;36m4\u001b[0m\u001b[1;33m]\u001b[0m\u001b[1;33m\u001b[0m\u001b[1;33m\u001b[0m\u001b[0m\n\u001b[0;32m      2\u001b[0m \u001b[1;32mdef\u001b[0m \u001b[0mconvert\u001b[0m\u001b[1;33m(\u001b[0m\u001b[0mlist1\u001b[0m\u001b[1;33m)\u001b[0m\u001b[1;33m:\u001b[0m\u001b[1;33m\u001b[0m\u001b[1;33m\u001b[0m\u001b[0m\n\u001b[1;32m----> 3\u001b[1;33m     \u001b[1;32mreturn\u001b[0m \u001b[0mtuple\u001b[0m\u001b[1;33m(\u001b[0m\u001b[0mlist1\u001b[0m\u001b[1;33m)\u001b[0m\u001b[1;33m\u001b[0m\u001b[1;33m\u001b[0m\u001b[0m\n\u001b[0m\u001b[0;32m      4\u001b[0m \u001b[0mprint\u001b[0m\u001b[1;33m(\u001b[0m\u001b[0mconvert\u001b[0m\u001b[1;33m(\u001b[0m\u001b[0mlist1\u001b[0m\u001b[1;33m)\u001b[0m\u001b[1;33m)\u001b[0m\u001b[1;33m\u001b[0m\u001b[1;33m\u001b[0m\u001b[0m\n",
      "\u001b[1;31mTypeError\u001b[0m: 'tuple' object is not callable"
     ]
    }
   ],
   "source": [
    "#List to tuple\n",
    "list1 = [1, 2, 3, 4]\n",
    "def convert(list1):\n",
    "    return tuple(list1)\n",
    "print(convert(list1))"
   ]
  },
  {
   "cell_type": "code",
   "execution_count": 102,
   "id": "1a1dc4fa",
   "metadata": {},
   "outputs": [
    {
     "ename": "TypeError",
     "evalue": "'list' object is not callable",
     "output_type": "error",
     "traceback": [
      "\u001b[1;31m---------------------------------------------------------------------------\u001b[0m",
      "\u001b[1;31mTypeError\u001b[0m                                 Traceback (most recent call last)",
      "\u001b[1;32m<ipython-input-102-b64295e223f9>\u001b[0m in \u001b[0;36m<module>\u001b[1;34m\u001b[0m\n\u001b[0;32m      3\u001b[0m \u001b[1;32mdef\u001b[0m \u001b[0mconvert1\u001b[0m\u001b[1;33m(\u001b[0m\u001b[0mtuple\u001b[0m\u001b[1;33m)\u001b[0m\u001b[1;33m:\u001b[0m\u001b[1;33m\u001b[0m\u001b[1;33m\u001b[0m\u001b[0m\n\u001b[0;32m      4\u001b[0m     \u001b[1;32mreturn\u001b[0m \u001b[0mlist\u001b[0m\u001b[1;33m(\u001b[0m\u001b[0mtuple\u001b[0m\u001b[1;33m)\u001b[0m\u001b[1;33m\u001b[0m\u001b[1;33m\u001b[0m\u001b[0m\n\u001b[1;32m----> 5\u001b[1;33m \u001b[0mprint\u001b[0m\u001b[1;33m(\u001b[0m\u001b[0mconvert1\u001b[0m\u001b[1;33m(\u001b[0m\u001b[0mtuple\u001b[0m\u001b[1;33m)\u001b[0m\u001b[1;33m)\u001b[0m\u001b[1;33m\u001b[0m\u001b[1;33m\u001b[0m\u001b[0m\n\u001b[0m",
      "\u001b[1;32m<ipython-input-102-b64295e223f9>\u001b[0m in \u001b[0;36mconvert1\u001b[1;34m(tuple)\u001b[0m\n\u001b[0;32m      2\u001b[0m \u001b[0mtuple\u001b[0m \u001b[1;33m=\u001b[0m \u001b[1;33m(\u001b[0m\u001b[1;36m1\u001b[0m\u001b[1;33m,\u001b[0m \u001b[1;36m2\u001b[0m\u001b[1;33m,\u001b[0m \u001b[1;36m3\u001b[0m\u001b[1;33m,\u001b[0m \u001b[1;36m4\u001b[0m\u001b[1;33m)\u001b[0m\u001b[1;33m\u001b[0m\u001b[1;33m\u001b[0m\u001b[0m\n\u001b[0;32m      3\u001b[0m \u001b[1;32mdef\u001b[0m \u001b[0mconvert1\u001b[0m\u001b[1;33m(\u001b[0m\u001b[0mtuple\u001b[0m\u001b[1;33m)\u001b[0m\u001b[1;33m:\u001b[0m\u001b[1;33m\u001b[0m\u001b[1;33m\u001b[0m\u001b[0m\n\u001b[1;32m----> 4\u001b[1;33m     \u001b[1;32mreturn\u001b[0m \u001b[0mlist\u001b[0m\u001b[1;33m(\u001b[0m\u001b[0mtuple\u001b[0m\u001b[1;33m)\u001b[0m\u001b[1;33m\u001b[0m\u001b[1;33m\u001b[0m\u001b[0m\n\u001b[0m\u001b[0;32m      5\u001b[0m \u001b[0mprint\u001b[0m\u001b[1;33m(\u001b[0m\u001b[0mconvert1\u001b[0m\u001b[1;33m(\u001b[0m\u001b[0mtuple\u001b[0m\u001b[1;33m)\u001b[0m\u001b[1;33m)\u001b[0m\u001b[1;33m\u001b[0m\u001b[1;33m\u001b[0m\u001b[0m\n",
      "\u001b[1;31mTypeError\u001b[0m: 'list' object is not callable"
     ]
    }
   ],
   "source": [
    "#Tuple to list\n",
    "tuple = (1, 2, 3, 4)\n",
    "def convert1(tuple):\n",
    "    return list(tuple)\n",
    "print(convert1(tuple))"
   ]
  },
  {
   "cell_type": "markdown",
   "id": "163a7ccc",
   "metadata": {},
   "source": [
    "## Iterate through lists, tuple and find out numbers that are multiple of X and divisible by Y"
   ]
  },
  {
   "cell_type": "code",
   "execution_count": 100,
   "id": "db4adc7e",
   "metadata": {},
   "outputs": [
    {
     "name": "stdout",
     "output_type": "stream",
     "text": [
      "sravan\n",
      "\n",
      "7058\n",
      "\n",
      "98.45\n",
      "\n",
      "ojaswi\n",
      "\n",
      "7059\n",
      "\n",
      "90.67\n",
      "\n",
      "bobby\n",
      "\n",
      "7060\n",
      "\n",
      "78.9\n",
      "\n",
      "rohith\n",
      "\n",
      "7081\n",
      "\n",
      "67.89\n",
      "\n",
      "gnanesh\n",
      "\n",
      "7084\n",
      "\n",
      "98.01\n",
      "\n"
     ]
    }
   ],
   "source": [
    "name = [('sravan',7058,98.45),\n",
    "        ('ojaswi',7059,90.67),\n",
    "        ('bobby',7060,78.90),\n",
    "        ('rohith',7081,67.89),\n",
    "        ('gnanesh',7084,98.01)]\n",
    "\n",
    "for x in name:\n",
    "   \n",
    "  for y in x:\n",
    "    print(y)\n",
    "       \n",
    "    print()"
   ]
  },
  {
   "cell_type": "markdown",
   "id": "ef7aefc3",
   "metadata": {},
   "source": [
    "## Dictionary keys and values and how to access each of them"
   ]
  },
  {
   "cell_type": "code",
   "execution_count": 104,
   "id": "d1813953",
   "metadata": {},
   "outputs": [
    {
     "name": "stdout",
     "output_type": "stream",
     "text": [
      "{'Physics': 67, 'Maths': 87, 'Practical': 48}\n"
     ]
    }
   ],
   "source": [
    "#update dictionary\n",
    "marks = {'Physics':67, 'Maths':87}\n",
    "internal_marks = {'Practical':48}\n",
    "marks.update(internal_marks)\n",
    "print(marks)"
   ]
  },
  {
   "cell_type": "code",
   "execution_count": 105,
   "id": "2cb240aa",
   "metadata": {},
   "outputs": [
    {
     "name": "stdout",
     "output_type": "stream",
     "text": [
      "{21: 'b', 14: 'c'}\n"
     ]
    }
   ],
   "source": [
    "#delete dictionary\n",
    "my_dict = {31: 'a', 21: 'b', 14: 'c'}\n",
    "del my_dict[31]\n",
    "print(my_dict)"
   ]
  },
  {
   "cell_type": "code",
   "execution_count": 106,
   "id": "bdb78907",
   "metadata": {},
   "outputs": [
    {
     "name": "stdout",
     "output_type": "stream",
     "text": [
      "dict_keys(['brand', 'model', 'year'])\n"
     ]
    }
   ],
   "source": [
    "#keys()\n",
    "car = {\n",
    "  \"brand\": \"Ford\",\n",
    "  \"model\": \"Mustang\",\n",
    "  \"year\": 1964\n",
    "}\n",
    "\n",
    "x = car.keys()\n",
    "\n",
    "print(x)"
   ]
  },
  {
   "cell_type": "code",
   "execution_count": 107,
   "id": "1a5f2b87",
   "metadata": {},
   "outputs": [
    {
     "name": "stdout",
     "output_type": "stream",
     "text": [
      "dict_values([67, 87])\n"
     ]
    }
   ],
   "source": [
    "#value()\n",
    "marks = {'Physics':67, 'Maths':87}\n",
    "print(marks.values())"
   ]
  },
  {
   "cell_type": "code",
   "execution_count": 108,
   "id": "649e4e73",
   "metadata": {},
   "outputs": [
    {
     "name": "stdout",
     "output_type": "stream",
     "text": [
      "dict_items([('Physics', 67), ('Maths', 87)])\n"
     ]
    }
   ],
   "source": [
    "#items()\n",
    "marks = {'Physics':67, 'Maths':87}\n",
    "print(marks.items())"
   ]
  },
  {
   "cell_type": "markdown",
   "id": "8df6b66e",
   "metadata": {},
   "source": [
    "## Create a set using range function, convert list to set, set to list"
   ]
  },
  {
   "cell_type": "code",
   "execution_count": 109,
   "id": "cce70f3c",
   "metadata": {},
   "outputs": [
    {
     "name": "stdout",
     "output_type": "stream",
     "text": [
      "List of Students: ['Mohan', 'John', 'Ramesh', 'Mohan', 'John']\n",
      "Set of uniqueNames: {'Mohan', 'John', 'Ramesh'}\n",
      "List of Makrs: [8, 7, 6, 7, 8, 8, 7, 6, 7, 8, 9]\n",
      "Set of marks: {8, 9, 6, 7}\n"
     ]
    }
   ],
   "source": [
    "listOfStudents=['Mohan','John','Ramesh','Mohan','John']\n",
    "print(\"List of Students:\",listOfStudents)\n",
    "uniqueNames=set(listOfStudents)\n",
    "print(\"Set of uniqueNames:\",uniqueNames)\n",
    " \n",
    "listOfMarks=[8,7,6,7,8,8,7,6,7,8,9]\n",
    "print(\"List of Makrs:\",listOfMarks)\n",
    "setOfMarks=set(listOfMarks)\n",
    "print(\"Set of marks:\",setOfMarks)"
   ]
  },
  {
   "cell_type": "code",
   "execution_count": 110,
   "id": "5e7674a5",
   "metadata": {},
   "outputs": [
    {
     "name": "stdout",
     "output_type": "stream",
     "text": [
      "{'microsoft', 'google', 'cherry', 'banana', 'apple'}\n"
     ]
    }
   ],
   "source": [
    "#union\n",
    "x = {\"apple\", \"banana\", \"cherry\"}\n",
    "y = {\"google\", \"microsoft\", \"apple\"}\n",
    "\n",
    "z = x.union(y)\n",
    "\n",
    "print(z)"
   ]
  },
  {
   "cell_type": "code",
   "execution_count": 111,
   "id": "b13f6557",
   "metadata": {},
   "outputs": [
    {
     "name": "stdout",
     "output_type": "stream",
     "text": [
      "{3, 5}\n"
     ]
    }
   ],
   "source": [
    "#intersection\n",
    "A = {2, 3, 5}\n",
    "B = {1, 3, 5}\n",
    "print(A.intersection(B))"
   ]
  },
  {
   "cell_type": "code",
   "execution_count": 112,
   "id": "b17e7143",
   "metadata": {},
   "outputs": [
    {
     "name": "stdout",
     "output_type": "stream",
     "text": [
      "{'e', 'b', 'a'}\n",
      "{'e', 'b', 'a'}\n",
      "{'a', 'd', 'b', 'c'}\n",
      "{'e', 'd', 'c'}\n"
     ]
    }
   ],
   "source": [
    "#symmetric difference\n",
    "A = {'a', 'b', 'c', 'd'}\n",
    "B = {'c', 'd', 'e' }\n",
    "C = {}\n",
    "\n",
    "print(A.symmetric_difference(B))\n",
    "print(B.symmetric_difference(A))\n",
    "\n",
    "print(A.symmetric_difference(C))\n",
    "print(B.symmetric_difference(C))"
   ]
  },
  {
   "cell_type": "code",
   "execution_count": 113,
   "id": "ee60c8da",
   "metadata": {},
   "outputs": [
    {
     "name": "stdout",
     "output_type": "stream",
     "text": [
      "{2, 3, 5, 7, 11}\n"
     ]
    }
   ],
   "source": [
    "#add()\n",
    "prime_numbers = {2, 3, 5, 7}\n",
    "prime_numbers.add(11)\n",
    "print(prime_numbers)"
   ]
  },
  {
   "cell_type": "markdown",
   "id": "f16d9458",
   "metadata": {},
   "source": [
    "**remove()** is an inbuilt function in Python programming language that removes a given object from the list. It removes the object from the list. It does not return any value.\n",
    "\n",
    "**clear()** is used to empty the entire list. this can be used if someone wants an empty list for any other purpose.**\n",
    "\n",
    "**del()** removes items by index or slices items. you can also remove elements from a list with del statements.**"
   ]
  },
  {
   "cell_type": "markdown",
   "id": "92d9864f",
   "metadata": {},
   "source": [
    "A **Tuple** is a collection of Python objects separated by commas. In someways a tuple is similar to a list in terms of indexing, nested objects and repetition but a tuple is immutable unlike lists that are mutable.\n",
    "\n",
    "A **Set** is an unordered collection data type that is iterable, mutable and has no duplicate elements. Python’s set class represents the mathematical notion of a set.\n",
    "\n",
    "A **Dictionary** in Python is an unordered collection of data values, used to store data values like a map, which unlike other Data Types that hold only single value as an element, Dictionary holds key:value pair. Key value is provided in the dictionary to make it more optimized.\n",
    "\n",
    "**Lists** are used to store multiple items in a single variable. They are mutable"
   ]
  }
 ],
 "metadata": {
  "kernelspec": {
   "display_name": "Python 3",
   "language": "python",
   "name": "python3"
  },
  "language_info": {
   "codemirror_mode": {
    "name": "ipython",
    "version": 3
   },
   "file_extension": ".py",
   "mimetype": "text/x-python",
   "name": "python",
   "nbconvert_exporter": "python",
   "pygments_lexer": "ipython3",
   "version": "3.8.8"
  }
 },
 "nbformat": 4,
 "nbformat_minor": 5
}
